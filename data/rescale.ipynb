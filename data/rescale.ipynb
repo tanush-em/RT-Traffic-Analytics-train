{
  "cells": [
    {
      "cell_type": "code",
      "execution_count": 1,
      "metadata": {
        "colab": {
          "base_uri": "https://localhost:8080/"
        },
        "id": "tLGEk2KFOmk1",
        "outputId": "81c04fb9-6bff-42f5-c531-368019b7a630"
      },
      "outputs": [
        {
          "name": "stdout",
          "output_type": "stream",
          "text": [
            "Requirement already satisfied: pillow in c:\\users\\tanush\\.pyenv\\pyenv-win\\versions\\3.10.11\\lib\\site-packages (10.3.0)\n"
          ]
        },
        {
          "name": "stderr",
          "output_type": "stream",
          "text": [
            "WARNING: Ignoring invalid distribution -orch (c:\\users\\tanush\\.pyenv\\pyenv-win\\versions\\3.10.11\\lib\\site-packages)\n",
            "WARNING: Ignoring invalid distribution -orch (c:\\users\\tanush\\.pyenv\\pyenv-win\\versions\\3.10.11\\lib\\site-packages)\n",
            "\n",
            "[notice] A new release of pip is available: 24.0 -> 24.2\n",
            "[notice] To update, run: C:\\Users\\Tanush\\.pyenv\\pyenv-win\\versions\\3.10.11\\python.exe -m pip install --upgrade pip\n"
          ]
        }
      ],
      "source": [
        "# Library installation for Image Processing\n",
        "!pip install pillow"
      ]
    },
    {
      "cell_type": "code",
      "execution_count": 5,
      "metadata": {},
      "outputs": [],
      "source": [
        "# Library Imports and Dependancies\n",
        "from PIL import Image\n",
        "import os"
      ]
    },
    {
      "cell_type": "code",
      "execution_count": 9,
      "metadata": {
        "id": "GwmQEFPtO1C8"
      },
      "outputs": [],
      "source": [
        "# Setting Path\n",
        "INPUT_DIR = \"./raw\"\n",
        "OUTPUT_DIR = \"./resized\""
      ]
    },
    {
      "cell_type": "code",
      "execution_count": 7,
      "metadata": {
        "id": "Ai7yga5sOtqG"
      },
      "outputs": [],
      "source": [
        "# Core logic to rescale by maintaning aspect ratio\n",
        "def resize_images(INPUT_DIR, output_dir, size=(416, 416)):\n",
        "    os.makedirs(output_dir, exist_ok=True)\n",
        "\n",
        "    for filename in os.listdir(INPUT_DIR):\n",
        "        if filename.endswith('.png'):\n",
        "            image_path = os.path.join(INPUT_DIR, filename)\n",
        "            image = Image.open(image_path)\n",
        "            resized_image = image.resize(size)\n",
        "\n",
        "            output_path = os.path.join(output_dir, filename)\n",
        "            resized_image.save(output_path)\n",
        "            print(f\"Resized {filename} and saved to {output_path}\")"
      ]
    },
    {
      "cell_type": "code",
      "execution_count": 10,
      "metadata": {
        "colab": {
          "base_uri": "https://localhost:8080/"
        },
        "id": "WBDKLn-FPRGh",
        "outputId": "aa0f4010-dcd6-476e-9f23-8fa6fd58e47d"
      },
      "outputs": [
        {
          "ename": "FileNotFoundError",
          "evalue": "[WinError 3] The system cannot find the path specified: './raw'",
          "output_type": "error",
          "traceback": [
            "\u001b[1;31m---------------------------------------------------------------------------\u001b[0m",
            "\u001b[1;31mFileNotFoundError\u001b[0m                         Traceback (most recent call last)",
            "Cell \u001b[1;32mIn[10], line 2\u001b[0m\n\u001b[0;32m      1\u001b[0m \u001b[38;5;66;03m# Start Processing\u001b[39;00m\n\u001b[1;32m----> 2\u001b[0m \u001b[43mresize_images\u001b[49m\u001b[43m(\u001b[49m\u001b[43mINPUT_DIR\u001b[49m\u001b[43m,\u001b[49m\u001b[43m \u001b[49m\u001b[43mOUTPUT_DIR\u001b[49m\u001b[43m)\u001b[49m\n",
            "Cell \u001b[1;32mIn[7], line 5\u001b[0m, in \u001b[0;36mresize_images\u001b[1;34m(INPUT_DIR, output_dir, size)\u001b[0m\n\u001b[0;32m      2\u001b[0m \u001b[38;5;28;01mdef\u001b[39;00m \u001b[38;5;21mresize_images\u001b[39m(INPUT_DIR, output_dir, size\u001b[38;5;241m=\u001b[39m(\u001b[38;5;241m416\u001b[39m, \u001b[38;5;241m416\u001b[39m)):\n\u001b[0;32m      3\u001b[0m     os\u001b[38;5;241m.\u001b[39mmakedirs(output_dir, exist_ok\u001b[38;5;241m=\u001b[39m\u001b[38;5;28;01mTrue\u001b[39;00m)\n\u001b[1;32m----> 5\u001b[0m     \u001b[38;5;28;01mfor\u001b[39;00m filename \u001b[38;5;129;01min\u001b[39;00m \u001b[43mos\u001b[49m\u001b[38;5;241;43m.\u001b[39;49m\u001b[43mlistdir\u001b[49m\u001b[43m(\u001b[49m\u001b[43mINPUT_DIR\u001b[49m\u001b[43m)\u001b[49m:\n\u001b[0;32m      6\u001b[0m         \u001b[38;5;28;01mif\u001b[39;00m filename\u001b[38;5;241m.\u001b[39mendswith(\u001b[38;5;124m'\u001b[39m\u001b[38;5;124m.png\u001b[39m\u001b[38;5;124m'\u001b[39m):\n\u001b[0;32m      7\u001b[0m             image_path \u001b[38;5;241m=\u001b[39m os\u001b[38;5;241m.\u001b[39mpath\u001b[38;5;241m.\u001b[39mjoin(INPUT_DIR, filename)\n",
            "\u001b[1;31mFileNotFoundError\u001b[0m: [WinError 3] The system cannot find the path specified: './raw'"
          ]
        }
      ],
      "source": [
        "# Start Processing\n",
        "resize_images(INPUT_DIR, OUTPUT_DIR)"
      ]
    }
  ],
  "metadata": {
    "accelerator": "GPU",
    "colab": {
      "provenance": []
    },
    "kernelspec": {
      "display_name": "Python 3 (ipykernel)",
      "language": "python",
      "name": "python3"
    },
    "language_info": {
      "codemirror_mode": {
        "name": "ipython",
        "version": 3
      },
      "file_extension": ".py",
      "mimetype": "text/x-python",
      "name": "python",
      "nbconvert_exporter": "python",
      "pygments_lexer": "ipython3",
      "version": "3.10.11"
    }
  },
  "nbformat": 4,
  "nbformat_minor": 0
}
