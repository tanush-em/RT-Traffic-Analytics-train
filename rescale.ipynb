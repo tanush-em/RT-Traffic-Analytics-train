{
  "cells": [
    {
      "cell_type": "code",
      "execution_count": 2,
      "metadata": {
        "colab": {
          "base_uri": "https://localhost:8080/"
        },
        "id": "tLGEk2KFOmk1",
        "outputId": "81c04fb9-6bff-42f5-c531-368019b7a630"
      },
      "outputs": [
        {
          "name": "stdout",
          "output_type": "stream",
          "text": [
            "Requirement already satisfied: pillow in /usr/local/lib/python3.10/dist-packages (9.4.0)\n"
          ]
        }
      ],
      "source": [
        "# Library installation for Image Processing\n",
        "!pip install pillow"
      ]
    },
    {
      "cell_type": "code",
      "execution_count": null,
      "metadata": {},
      "outputs": [],
      "source": [
        "# Library Imports and Dependancies\n",
        "from PIL import Image\n",
        "import os"
      ]
    },
    {
      "cell_type": "code",
      "execution_count": 11,
      "metadata": {
        "id": "GwmQEFPtO1C8"
      },
      "outputs": [],
      "source": [
        "# Setting Path\n",
        "INPUT_DIR = \"raw\"\n",
        "OUTPUT_DIR = \"resized\""
      ]
    },
    {
      "cell_type": "code",
      "execution_count": 14,
      "metadata": {
        "id": "Ai7yga5sOtqG"
      },
      "outputs": [],
      "source": [
        "# Core logic to rescale by maintaning aspect ratio\n",
        "def resize_images(INPUT_DIR, output_dir, size=(416, 416)):\n",
        "    os.makedirs(output_dir, exist_ok=True)\n",
        "\n",
        "    for filename in os.listdir(INPUT_DIR):\n",
        "        if filename.endswith('.png'):\n",
        "            image_path = os.path.join(INPUT_DIR, filename)\n",
        "            image = Image.open(image_path)\n",
        "            resized_image = image.resize(size)\n",
        "\n",
        "            output_path = os.path.join(output_dir, filename)\n",
        "            resized_image.save(output_path)\n",
        "            print(f\"Resized {filename} and saved to {output_path}\")"
      ]
    },
    {
      "cell_type": "code",
      "execution_count": 15,
      "metadata": {
        "colab": {
          "base_uri": "https://localhost:8080/"
        },
        "id": "WBDKLn-FPRGh",
        "outputId": "aa0f4010-dcd6-476e-9f23-8fa6fd58e47d"
      },
      "outputs": [
        {
          "name": "stdout",
          "output_type": "stream",
          "text": [
            "Resized 30.png and saved to resized/30.png\n",
            "Resized 8.png and saved to resized/8.png\n",
            "Resized 9.png and saved to resized/9.png\n",
            "Resized 21.png and saved to resized/21.png\n",
            "Resized 27.png and saved to resized/27.png\n",
            "Resized 20.png and saved to resized/20.png\n",
            "Resized 29.png and saved to resized/29.png\n",
            "Resized 18.png and saved to resized/18.png\n",
            "Resized 24.png and saved to resized/24.png\n",
            "Resized 19.png and saved to resized/19.png\n",
            "Resized 7.png and saved to resized/7.png\n",
            "Resized 15.png and saved to resized/15.png\n",
            "Resized 23.png and saved to resized/23.png\n",
            "Resized 13.png and saved to resized/13.png\n",
            "Resized 3.png and saved to resized/3.png\n",
            "Resized 22.png and saved to resized/22.png\n",
            "Resized 12.png and saved to resized/12.png\n",
            "Resized 14.png and saved to resized/14.png\n",
            "Resized 25.png and saved to resized/25.png\n",
            "Resized 16.png and saved to resized/16.png\n",
            "Resized 5.png and saved to resized/5.png\n",
            "Resized 17.png and saved to resized/17.png\n",
            "Resized 10.png and saved to resized/10.png\n",
            "Resized 28.png and saved to resized/28.png\n",
            "Resized 1.png and saved to resized/1.png\n",
            "Resized 6.png and saved to resized/6.png\n",
            "Resized 2.png and saved to resized/2.png\n",
            "Resized 4.png and saved to resized/4.png\n",
            "Resized 11.png and saved to resized/11.png\n",
            "Resized 26.png and saved to resized/26.png\n"
          ]
        }
      ],
      "source": [
        "# Start Processing\n",
        "resize_images(INPUT_DIR, OUTPUT_DIR)"
      ]
    }
  ],
  "metadata": {
    "accelerator": "GPU",
    "colab": {
      "provenance": []
    },
    "kernelspec": {
      "display_name": "Python 3 (ipykernel)",
      "language": "python",
      "name": "python3"
    },
    "language_info": {
      "codemirror_mode": {
        "name": "ipython",
        "version": 3
      },
      "file_extension": ".py",
      "mimetype": "text/x-python",
      "name": "python",
      "nbconvert_exporter": "python",
      "pygments_lexer": "ipython3",
      "version": "3.9.13"
    }
  },
  "nbformat": 4,
  "nbformat_minor": 0
}
